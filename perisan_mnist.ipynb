{
  "nbformat": 4,
  "nbformat_minor": 0,
  "metadata": {
    "colab": {
      "name": "perisan_mnist.ipynb",
      "provenance": []
    },
    "kernelspec": {
      "display_name": "Python 3",
      "language": "python",
      "name": "python3"
    },
    "language_info": {
      "codemirror_mode": {
        "name": "ipython",
        "version": 3
      },
      "file_extension": ".py",
      "mimetype": "text/x-python",
      "name": "python",
      "nbconvert_exporter": "python",
      "pygments_lexer": "ipython3",
      "version": "3.8.5"
    }
  },
  "cells": [
    {
      "cell_type": "code",
      "metadata": {
        "colab": {
          "base_uri": "https://localhost:8080/"
        },
        "id": "_B08pgBK10T-",
        "outputId": "88ceae44-373d-4020-ecf2-a61423b9a9f4"
      },
      "source": [
        "from google.colab import drive\n",
        "drive.mount('/content/drive')"
      ],
      "execution_count": 1,
      "outputs": [
        {
          "output_type": "stream",
          "text": [
            "Mounted at /content/drive\n"
          ],
          "name": "stdout"
        }
      ]
    },
    {
      "cell_type": "code",
      "metadata": {
        "id": "TXAIcfow2BE5"
      },
      "source": [
        "import numpy as np\n",
        "from scipy import io\n",
        "import matplotlib.pyplot as plt"
      ],
      "execution_count": 14,
      "outputs": []
    },
    {
      "cell_type": "code",
      "metadata": {
        "id": "5WacaKLm2BCZ"
      },
      "source": [
        "dataset = io.loadmat(\"/content/drive/MyDrive/Persian_MNIST/data/HodaDataset.mat\")"
      ],
      "execution_count": 22,
      "outputs": []
    },
    {
      "cell_type": "code",
      "metadata": {
        "id": "l-qhLO2S2A_8",
        "colab": {
          "base_uri": "https://localhost:8080/"
        },
        "outputId": "cd6e053d-ce46-4b8a-8e5a-c335f8f1f543"
      },
      "source": [
        "len(data[\"Data\"])"
      ],
      "execution_count": 23,
      "outputs": [
        {
          "output_type": "execute_result",
          "data": {
            "text/plain": [
              "60000"
            ]
          },
          "metadata": {
            "tags": []
          },
          "execution_count": 23
        }
      ]
    },
    {
      "cell_type": "code",
      "metadata": {
        "id": "o_N7rJMX2A9U"
      },
      "source": [
        "#test and training set split\n",
        "X_train_orginal = np.squeeze(dataset['Data'][:10000])\n",
        "y_train = np.squeeze(dataset['labels'][:10000])\n",
        "X_test_original = np.squeeze(dataset['Data'][10000:12000])\n",
        "y_test = np.squeeze(dataset['labels'][10000:12000])"
      ],
      "execution_count": 24,
      "outputs": []
    },
    {
      "cell_type": "code",
      "metadata": {
        "id": "FBEDi0Mo2As6",
        "colab": {
          "base_uri": "https://localhost:8080/",
          "height": 267
        },
        "outputId": "4a4098f5-9d80-439a-991b-91ba42572b6f"
      },
      "source": [
        "plt.imshow(X_train_orginal[400], cmap='gray')\n",
        "plt.show()"
      ],
      "execution_count": 27,
      "outputs": [
        {
          "output_type": "display_data",
          "data": {
            "image/png": "[encoded data removed]",
            "text/plain": [
              "<Figure size 432x288 with 1 Axes>"
            ]
          },
          "metadata": {
            "tags": [],
            "needs_background": "light"
          }
        }
      ]
    },
    {
      "cell_type": "code",
      "metadata": {
        "id": "FoVOC5nAlBXi"
      },
      "source": [
        ""
      ],
      "execution_count": null,
      "outputs": []
    }
  ]
}