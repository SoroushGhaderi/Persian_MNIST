{
<<<<<<< HEAD
 "cells": [
  {
   "cell_type": "code",
   "execution_count": 24,
   "metadata": {
    "colab": {
     "base_uri": "https://localhost:8080/"
    },
    "id": "_B08pgBK10T-",
    "outputId": "6e976a20-3bec-4982-ef7c-0ebd7dfcb9f7"
   },
   "outputs": [
    {
     "name": "stdout",
     "output_type": "stream",
     "text": [
      "Drive already mounted at /content/drive; to attempt to forcibly remount, call drive.mount(\"/content/drive\", force_remount=True).\n"
     ]
    }
   ],
   "source": [
    "from google.colab import drive\n",
    "drive.mount('/content/drive')"
   ]
  },
  {
   "cell_type": "code",
   "execution_count": 1,
   "metadata": {
    "id": "TXAIcfow2BE5"
   },
   "outputs": [],
   "source": [
    "import cv2\n",
    "import numpy as np\n",
    "import pandas as pd\n",
    "from scipy import io\n",
    "import matplotlib.pyplot as plt\n",
    "from skimage.transform import resize\n",
    "from PIL import Image\n",
    "import torch\n",
    "import torch.nn as nn\n",
    "import torch.optim as optim\n",
    "from torch.optim import lr_scheduler\n",
    "import numpy as np\n",
    "import torchvision\n",
    "from torchvision import datasets, models, transforms\n",
    "from torch.utils.data import TensorDataset, DataLoader, Dataset\n",
    "import torch.nn.functional as F\n",
    "import time\n",
    "import os\n",
    "import copy"
   ]
  },
  {
   "cell_type": "code",
   "execution_count": 2,
   "metadata": {
    "colab": {
     "base_uri": "https://localhost:8080/"
    },
    "id": "mljmtF20hy8z",
    "outputId": "9282ebcb-cdd0-4ba4-c640-4b6c50bbf28f"
   },
   "outputs": [
    {
     "name": "stdout",
     "output_type": "stream",
     "text": [
      "data  perisan_mnist.ipynb\r\n"
     ]
    }
   ],
   "source": [
    "!ls"
   ]
  },
  {
   "cell_type": "code",
   "execution_count": 4,
   "metadata": {
    "id": "5WacaKLm2BCZ"
   },
   "outputs": [],
   "source": [
    "dataset = io.loadmat(\"data/HodaDataset.mat\")"
   ]
  },
  {
   "cell_type": "code",
   "execution_count": 5,
   "metadata": {
    "colab": {
     "base_uri": "https://localhost:8080/"
    },
    "id": "l-qhLO2S2A_8",
    "outputId": "62a31540-051d-4dfe-e5ed-3acce475192e"
   },
   "outputs": [
    {
     "data": {
      "text/plain": [
       "60000"
      ]
     },
     "execution_count": 5,
     "metadata": {},
     "output_type": "execute_result"
    }
   ],
   "source": [
    "len(dataset[\"Data\"])"
   ]
  },
  {
   "cell_type": "code",
   "execution_count": 6,
   "metadata": {
    "id": "o_N7rJMX2A9U"
   },
   "outputs": [],
   "source": [
    "#test and training set split\n",
    "X_train_orginal = np.squeeze(dataset['Data'][:58000])\n",
    "y_train = np.squeeze(dataset['labels'][:58000])\n",
    "X_test_original = np.squeeze(dataset['Data'][58000:60000])\n",
    "y_test = np.squeeze(dataset['labels'][58000:60000])"
   ]
  },
  {
   "cell_type": "code",
   "execution_count": 7,
   "metadata": {
    "id": "ilVCWAaJkN6C"
   },
   "outputs": [],
   "source": [
    "train_data_dir = \"data/train\"\n",
    "test_data_dir = \"data/test\""
   ]
  },
  {
   "cell_type": "code",
   "execution_count": null,
   "metadata": {
    "id": "o6tXZz-FEz1D"
   },
   "outputs": [],
   "source": [
    "!ls /content/drive/MyDrive/Persian_MNIST/data/train"
   ]
  },
  {
   "cell_type": "code",
   "execution_count": 8,
   "metadata": {
    "id": "WkMMKnfnmleg"
   },
   "outputs": [],
   "source": [
    "import re\n",
    "def sorted_alphanumeric(data):\n",
    "    convert = lambda text: int(text) if text.isdigit() else text.lower()\n",
    "    alphanum_key = lambda key: [ convert(c) for c in re.split('([0-9]+)', key) ] \n",
    "    return sorted(data, key=alphanum_key)\n"
   ]
  },
  {
   "cell_type": "code",
   "execution_count": 9,
   "metadata": {
    "id": "Vl5zs4c7ohhE"
   },
   "outputs": [],
   "source": [
    "train_full_path = [str(train_data_dir) + \"/\" + str(image) for image in os.listdir(train_data_dir)]"
   ]
  },
  {
   "cell_type": "code",
   "execution_count": 10,
   "metadata": {
    "id": "JtORofX_CwGS"
   },
   "outputs": [],
   "source": [
    "test_full_path = [str(test_data_dir) + \"/\" + str(image) for image in os.listdir(test_data_dir)]"
   ]
  },
  {
   "cell_type": "code",
   "execution_count": null,
   "metadata": {
    "id": "GcyNgN6ovRHB"
   },
   "outputs": [],
   "source": []
  },
  {
   "cell_type": "code",
   "execution_count": 11,
   "metadata": {
    "id": "e0dmWLzokPr7"
   },
   "outputs": [],
   "source": [
    "train = pd.DataFrame({\"path\": sorted_alphanumeric(train_full_path), \"class\": y_train})\n",
    "test = pd.DataFrame({\"path\": sorted_alphanumeric(test_full_path), \"class\": y_test})"
   ]
  },
  {
   "cell_type": "code",
   "execution_count": null,
   "metadata": {
    "id": "9H5pnxBM2ea-"
   },
   "outputs": [],
   "source": []
  },
  {
   "cell_type": "code",
   "execution_count": 12,
   "metadata": {
    "id": "pQ7F4v4qQuil"
   },
   "outputs": [],
   "source": [
    "class MNISTDataset(Dataset):\n",
    "    def __init__(self, data, root_dir, transform=transforms.ToTensor()):\n",
    "        self.data = data\n",
    "        self.root_dir = root_dir\n",
    "        self.transform = transform\n",
    "    \n",
    "    def __len__(self):\n",
    "        return len(self.data)\n",
    "    \n",
    "    def __getitem__(self, idx):\n",
    "        if torch.is_tensor(idx):\n",
    "            idx = idx.tolist()\n",
    "        \n",
    "        img_name = self.data.iloc[idx, 0]\n",
    "        image = Image.open(img_name)\n",
    "        y_label = torch.tensor(self.data.iloc[idx, 1], dtype=torch.long)\n",
    "        \n",
    "        if self.transform:\n",
    "            image = self.transform(image)\n",
    "    \n",
    "        return (image, y_label)"
   ]
  },
  {
   "cell_type": "code",
   "execution_count": 13,
   "metadata": {
    "id": "E3ibDAHquezx"
   },
   "outputs": [],
   "source": [
    "data_transforms = {\n",
    "    'train': transforms.Compose([\n",
    "        transforms.Grayscale(num_output_channels=1),\n",
    "        transforms.RandomHorizontalFlip(),\n",
    "        transforms.ToTensor(),\n",
    "    ]),\n",
    "    'val': transforms.Compose([\n",
    "        transforms.Grayscale(num_output_channels=1),\n",
    "        transforms.ToTensor(),\n",
    "    ]),\n",
    "}"
   ]
  },
  {
   "cell_type": "code",
   "execution_count": 14,
   "metadata": {
    "id": "TKwrhGJKt_l3"
   },
   "outputs": [],
   "source": [
    "train_dataset = MNISTDataset(data=train, root_dir=train_data_dir, transform=data_transforms[\"train\"])\n",
    "test_dataset = MNISTDataset(data=test, root_dir=test_data_dir, transform=data_transforms[\"val\"])\n"
   ]
  },
  {
   "cell_type": "code",
   "execution_count": 15,
   "metadata": {
    "colab": {
     "base_uri": "https://localhost:8080/",
     "height": 592
    },
    "id": "gRAeTfaFuzD4",
    "outputId": "47892ca8-5fb5-4c26-a39b-49802c5741e1"
   },
   "outputs": [
    {
     "data": {
      "image/png": "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\n",
      "text/plain": [
       "<Figure size 432x288 with 1 Axes>"
      ]
     },
     "metadata": {
      "needs_background": "light"
     },
     "output_type": "display_data"
    }
   ],
   "source": [
    "img, lab = train_dataset[42]\n",
    "plt.imshow(img.numpy().transpose((1, 2, 0)))\n",
    "plt.show()"
   ]
  },
  {
   "cell_type": "code",
   "execution_count": 27,
   "metadata": {
    "id": "FoVOC5nAlBXi"
   },
   "outputs": [],
   "source": [
    "data = {\"train\": train_dataset, \"val\": test_dataset}\n",
    "\n",
    "dataloaders = {x: DataLoader(data[x], batch_size=100, shuffle=True)\n",
    "              for x in ['train', 'val']}\n",
    "dataset_sizes = {x: len(data[x]) for x in ['train', 'val']}"
   ]
  },
  {
   "cell_type": "code",
   "execution_count": 21,
   "metadata": {
    "id": "R8lsbZ3TUdcA"
   },
   "outputs": [],
   "source": [
    "device = torch.device(\"cpu\")"
   ]
  },
  {
   "cell_type": "code",
   "execution_count": 22,
   "metadata": {
    "id": "FKi07sxSqKut"
   },
   "outputs": [],
   "source": [
    "class LeNet(nn.Module):\n",
    "    def __init__(self):\n",
    "        super(LeNet, self).__init__()\n",
    "\n",
    "        self.conv1 = nn.Conv2d(in_channels = 1, out_channels = 6, \n",
    "                           kernel_size = 5, stride = 1, padding = 0)\n",
    "        self.conv2 = nn.Conv2d(in_channels = 6, out_channels = 16, \n",
    "                           kernel_size = 5, stride = 1, padding = 0)\n",
    "        self.conv3 = nn.Conv2d(in_channels = 16, out_channels = 120, \n",
    "                           kernel_size = 5, stride = 1, padding = 0)\n",
    "        self.linear1 = nn.Linear(120, 84)\n",
    "        self.linear2 = nn.Linear(84, 10)\n",
    "        self.tanh = nn.Tanh()\n",
    "        self.avgpool = nn.AvgPool2d(kernel_size = 2, stride = 2)\n",
    "\n",
    "    def forward(self, x):\n",
    "        x = self.conv1(x)\n",
    "        x = self.tanh(x)\n",
    "        x = self.avgpool(x)\n",
    "        x = self.conv2(x)\n",
    "        x = self.tanh(x)\n",
    "        x = self.avgpool(x)\n",
    "        x = self.conv3(x)\n",
    "        x = self.tanh(x)\n",
    "\n",
    "        x = x.reshape(x.shape[0], -1)\n",
    "        x = self.linear1(x)\n",
    "        x = self.tanh(x)\n",
    "        x = self.linear2(x)\n",
    "        return x\n",
    "\n",
    "model = LeNet()\n"
   ]
  },
  {
   "cell_type": "code",
   "execution_count": 30,
   "metadata": {
    "id": "o7hVUbMel_gP"
   },
   "outputs": [],
   "source": [
    "def train_model(model, criterion, optimizer, num_epochs=25):\n",
    "    since = time.time()\n",
    "\n",
    "    best_model_wts = copy.deepcopy(model.state_dict())\n",
    "    best_acc = 0.0\n",
    "\n",
    "    for epoch in range(num_epochs):\n",
    "        print('Epoch {}/{}'.format(epoch, num_epochs - 1))\n",
    "        print('-' * 10)\n",
    "\n",
    "        # Each epoch has a training and validation phase\n",
    "        for phase in ['train', 'val']:\n",
    "            if phase == 'train':\n",
    "                model.train()  # Set model to training mode\n",
    "            else:\n",
    "                model.eval()   # Set model to evaluate mode\n",
    "\n",
    "            running_loss = 0.0\n",
    "            running_corrects = 0\n",
    "\n",
    "            # Iterate over data.\n",
    "            for inputs, labels in dataloaders[phase]:\n",
    "                inputs = inputs.to(device)\n",
    "                labels = labels.to(device)\n",
    "\n",
    "                # zero the parameter gradients\n",
    "                optimizer.zero_grad()\n",
    "\n",
    "                # forward\n",
    "                # track history if only in train\n",
    "                with torch.set_grad_enabled(phase == 'train'):\n",
    "                    outputs = model(inputs)\n",
    "\n",
    "                    _, preds = torch.max(outputs, 1)\n",
    "                    loss = criterion(outputs, labels)\n",
    "\n",
    "                    # backward + optimize only if in training phase\n",
    "                    if phase == 'train':\n",
    "                        loss.backward()\n",
    "                        optimizer.step()\n",
    "\n",
    "                # statistics\n",
    "                running_loss += loss.item() * inputs.size(0)\n",
    "                running_corrects += torch.sum(preds == labels.data)\n",
    "\n",
    "            epoch_loss = running_loss / dataset_sizes[phase]\n",
    "            epoch_acc = running_corrects.double() / dataset_sizes[phase]\n",
    "\n",
    "            print('{} Loss: {:.4f} Acc: {:.4f}'.format(\n",
    "                phase, epoch_loss, epoch_acc))\n",
    "\n",
    "            # deep copy the model\n",
    "            if phase == 'val' and epoch_acc > best_acc:\n",
    "                best_acc = epoch_acc\n",
    "                best_model_wts = copy.deepcopy(model.state_dict())\n",
    "\n",
    "        print()\n",
    "\n",
    "    time_elapsed = time.time() - since\n",
    "    print('Training complete in {:.0f}m {:.0f}s'.format(\n",
    "        time_elapsed // 60, time_elapsed % 60))\n",
    "    print('Best val Acc: {:4f}'.format(best_acc))\n",
    "\n",
    "    # load best model weights\n",
    "    model.load_state_dict(best_model_wts)\n",
    "    return model"
   ]
  },
  {
   "cell_type": "code",
   "execution_count": 32,
   "metadata": {
    "id": "NhsQLuQxl_i6"
   },
   "outputs": [],
   "source": [
    "\n",
    "criterion = nn.CrossEntropyLoss()\n",
    "\n",
    "# Observe that only parameters of final layer are being optimized as\n",
    "# opposed to before.\n",
    "optimizer_conv = optim.Adam(model.parameters(), lr=0.001)\n",
    "\n",
    "# Decay LR by a factor of 0.1 every 7 epochs\n",
    "# exp_lr_scheduler = lr_scheduler.StepLR(optimizer_conv, step_size=7, gamma=0.1)"
   ]
  },
  {
   "cell_type": "code",
   "execution_count": 33,
   "metadata": {
    "colab": {
     "base_uri": "https://localhost:8080/"
    },
    "id": "IiPQukYJmD2T",
    "outputId": "5cbb6541-4656-4a4f-b207-f5f994f4fe08"
   },
   "outputs": [
    {
     "name": "stdout",
     "output_type": "stream",
     "text": [
      "Epoch 0/24\n",
      "----------\n",
      "train Loss: 0.1764 Acc: 0.9425\n",
      "val Loss: 0.1365 Acc: 0.9505\n",
      "\n",
      "Epoch 1/24\n",
      "----------\n",
      "train Loss: 0.1163 Acc: 0.9619\n",
      "val Loss: 0.1138 Acc: 0.9600\n",
      "\n",
      "Epoch 2/24\n",
      "----------\n",
      "train Loss: 0.0977 Acc: 0.9679\n",
      "val Loss: 0.1043 Acc: 0.9635\n",
      "\n",
      "Epoch 3/24\n",
      "----------\n",
      "train Loss: 0.0860 Acc: 0.9715\n",
      "val Loss: 0.0937 Acc: 0.9630\n",
      "\n",
      "Epoch 4/24\n",
      "----------\n",
      "train Loss: 0.0796 Acc: 0.9732\n",
      "val Loss: 0.0919 Acc: 0.9705\n",
      "\n",
      "Epoch 5/24\n",
      "----------\n",
      "train Loss: 0.0743 Acc: 0.9747\n",
      "val Loss: 0.0750 Acc: 0.9740\n",
      "\n",
      "Epoch 6/24\n",
      "----------\n",
      "train Loss: 0.0683 Acc: 0.9774\n",
      "val Loss: 0.0761 Acc: 0.9740\n",
      "\n",
      "Epoch 7/24\n",
      "----------\n",
      "train Loss: 0.0652 Acc: 0.9783\n",
      "val Loss: 0.0752 Acc: 0.9755\n",
      "\n",
      "Epoch 8/24\n",
      "----------\n",
      "train Loss: 0.0606 Acc: 0.9795\n",
      "val Loss: 0.0754 Acc: 0.9725\n",
      "\n",
      "Epoch 9/24\n",
      "----------\n",
      "train Loss: 0.0589 Acc: 0.9802\n",
      "val Loss: 0.0790 Acc: 0.9745\n",
      "\n",
      "Epoch 10/24\n",
      "----------\n",
      "train Loss: 0.0573 Acc: 0.9806\n",
      "val Loss: 0.0710 Acc: 0.9760\n",
      "\n",
      "Epoch 11/24\n",
      "----------\n",
      "train Loss: 0.0531 Acc: 0.9818\n",
      "val Loss: 0.0738 Acc: 0.9760\n",
      "\n",
      "Epoch 12/24\n",
      "----------\n",
      "train Loss: 0.0525 Acc: 0.9818\n",
      "val Loss: 0.0792 Acc: 0.9710\n",
      "\n",
      "Epoch 13/24\n",
      "----------\n",
      "train Loss: 0.0498 Acc: 0.9830\n",
      "val Loss: 0.0710 Acc: 0.9785\n",
      "\n",
      "Epoch 14/24\n",
      "----------\n",
      "train Loss: 0.0491 Acc: 0.9831\n",
      "val Loss: 0.0675 Acc: 0.9790\n",
      "\n",
      "Epoch 15/24\n",
      "----------\n",
      "train Loss: 0.0467 Acc: 0.9838\n",
      "val Loss: 0.0756 Acc: 0.9695\n",
      "\n",
      "Epoch 16/24\n",
      "----------\n",
      "train Loss: 0.0461 Acc: 0.9840\n",
      "val Loss: 0.0768 Acc: 0.9765\n",
      "\n",
      "Epoch 17/24\n",
      "----------\n",
      "train Loss: 0.0445 Acc: 0.9843\n",
      "val Loss: 0.0666 Acc: 0.9780\n",
      "\n",
      "Epoch 18/24\n",
      "----------\n",
      "train Loss: 0.0437 Acc: 0.9848\n",
      "val Loss: 0.0957 Acc: 0.9720\n",
      "\n",
      "Epoch 19/24\n",
      "----------\n",
      "train Loss: 0.0409 Acc: 0.9859\n",
      "val Loss: 0.0694 Acc: 0.9790\n",
      "\n",
      "Epoch 20/24\n",
      "----------\n",
      "train Loss: 0.0414 Acc: 0.9858\n",
      "val Loss: 0.0728 Acc: 0.9775\n",
      "\n",
      "Epoch 21/24\n",
      "----------\n",
      "train Loss: 0.0389 Acc: 0.9867\n",
      "val Loss: 0.0708 Acc: 0.9795\n",
      "\n",
      "Epoch 22/24\n",
      "----------\n",
      "train Loss: 0.0373 Acc: 0.9871\n",
      "val Loss: 0.0743 Acc: 0.9735\n",
      "\n",
      "Epoch 23/24\n",
      "----------\n",
      "train Loss: 0.0388 Acc: 0.9864\n",
      "val Loss: 0.0649 Acc: 0.9805\n",
      "\n",
      "Epoch 24/24\n",
      "----------\n",
      "train Loss: 0.0349 Acc: 0.9883\n",
      "val Loss: 0.0733 Acc: 0.9800\n",
      "\n",
      "Training complete in 16m 14s\n",
      "Best val Acc: 0.980500\n"
     ]
    }
   ],
   "source": [
    "model_conv = train_model(model, criterion, optimizer_conv, num_epochs=25)"
   ]
  },
  {
   "cell_type": "code",
   "execution_count": null,
   "metadata": {
    "id": "O43myUuemTSA"
   },
   "outputs": [],
   "source": []
  }
 ],
 "metadata": {
  "colab": {
   "collapsed_sections": [],
   "name": "perisan_mnist.ipynb",
   "provenance": []
  },
  "kernelspec": {
   "display_name": "Python 3",
   "language": "python",
   "name": "python3"
  },
  "language_info": {
   "codemirror_mode": {
    "name": "ipython",
    "version": 3
   },
   "file_extension": ".py",
   "mimetype": "text/x-python",
   "name": "python",
   "nbconvert_exporter": "python",
   "pygments_lexer": "ipython3",
   "version": "3.8.5"
  }
 },
 "nbformat": 4,
 "nbformat_minor": 1
}
=======
  "nbformat": 4,
  "nbformat_minor": 0,
  "metadata": {
    "colab": {
      "name": "perisan_mnist.ipynb",
      "provenance": []
    },
    "kernelspec": {
      "display_name": "Python 3",
      "language": "python",
      "name": "python3"
    },
    "language_info": {
      "codemirror_mode": {
        "name": "ipython",
        "version": 3
      },
      "file_extension": ".py",
      "mimetype": "text/x-python",
      "name": "python",
      "nbconvert_exporter": "python",
      "pygments_lexer": "ipython3",
      "version": "3.8.5"
    }
  },
  "cells": [
    {
      "cell_type": "code",
      "metadata": {
        "colab": {
          "base_uri": "https://localhost:8080/"
        },
        "id": "_B08pgBK10T-",
        "outputId": "88ceae44-373d-4020-ecf2-a61423b9a9f4"
      },
      "source": [
        "from google.colab import drive\n",
        "drive.mount('/content/drive')"
      ],
      "execution_count": 1,
      "outputs": [
        {
          "output_type": "stream",
          "text": [
            "Mounted at /content/drive\n"
          ],
          "name": "stdout"
        }
      ]
    },
    {
      "cell_type": "code",
      "metadata": {
        "id": "TXAIcfow2BE5"
      },
      "source": [
        "import numpy as np\n",
        "from scipy import io\n",
        "import matplotlib.pyplot as plt"
      ],
      "execution_count": 14,
      "outputs": []
    },
    {
      "cell_type": "code",
      "metadata": {
        "id": "5WacaKLm2BCZ"
      },
      "source": [
        "dataset = io.loadmat(\"/content/drive/MyDrive/Persian_MNIST/data/HodaDataset.mat\")"
      ],
      "execution_count": 22,
      "outputs": []
    },
    {
      "cell_type": "code",
      "metadata": {
        "id": "l-qhLO2S2A_8",
        "colab": {
          "base_uri": "https://localhost:8080/"
        },
        "outputId": "cd6e053d-ce46-4b8a-8e5a-c335f8f1f543"
      },
      "source": [
        "len(data[\"Data\"])"
      ],
      "execution_count": 23,
      "outputs": [
        {
          "output_type": "execute_result",
          "data": {
            "text/plain": [
              "60000"
            ]
          },
          "metadata": {
            "tags": []
          },
          "execution_count": 23
        }
      ]
    },
    {
      "cell_type": "code",
      "metadata": {
        "id": "o_N7rJMX2A9U"
      },
      "source": [
        "#test and training set split\n",
        "X_train_orginal = np.squeeze(dataset['Data'][:10000])\n",
        "y_train = np.squeeze(dataset['labels'][:10000])\n",
        "X_test_original = np.squeeze(dataset['Data'][10000:12000])\n",
        "y_test = np.squeeze(dataset['labels'][10000:12000])"
      ],
      "execution_count": 24,
      "outputs": []
    },
    {
      "cell_type": "code",
      "metadata": {
        "id": "FBEDi0Mo2As6",
        "colab": {
          "base_uri": "https://localhost:8080/",
          "height": 267
        },
        "outputId": "4a4098f5-9d80-439a-991b-91ba42572b6f"
      },
      "source": [
        "plt.imshow(X_train_orginal[400], cmap='gray')\n",
        "plt.show()"
      ],
      "execution_count": 27,
      "outputs": [
        {
          "output_type": "display_data",
          "data": {
            "image/png": "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\n",
            "text/plain": [
              "<Figure size 432x288 with 1 Axes>"
            ]
          },
          "metadata": {
            "tags": [],
            "needs_background": "light"
          }
        }
      ]
    },
    {
      "cell_type": "code",
      "metadata": {
        "id": "FoVOC5nAlBXi"
      },
      "source": [
        ""
      ],
      "execution_count": null,
      "outputs": []
    }
  ]
}
>>>>>>> 9e783edf4879d9e05b92eeab817e56528cc80429
